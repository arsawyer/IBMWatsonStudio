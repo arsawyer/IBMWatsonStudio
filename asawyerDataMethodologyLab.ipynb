{
    "cells": [
        {
            "cell_type": "markdown",
            "metadata": {
                "collapsed": true
            },
            "source": "<h3>Data Methodology project</h3>\n<i>by Alex Sawyer</i>\n\n\nThis project will be focused on topic 1: credit cards. The business problem is determining how users use their card (by market) to optimize special offers in the future."
        },
        {
            "cell_type": "markdown",
            "metadata": {},
            "source": "Starting from the beginning of the Data Methodology:\n\n<h4>Business Understanding:</h4>\nWe need a algorithm that will return the top 3 markets that consumers are using their credit cards in as well as a prediction of what markets are expected to be the top 3 for the next year.\n\n<h4>Data Understanding/Preparation/Collection:</h4>\nPulling use data without identifying information should provide a sizable data set on spending to start with. Setting up the features for each market will also likely require another data set that can link companies to their respective markets. During this step we will also want to verify with visualization if there is any missing data to remove/fill or any other integrity issues. Finally, combining the data into one data set with just the features we want will allow us to move on to modeling.\n\n<h4>Modeling:</h4>\nWith the intent to predict future sales, we will go with multiple regression models (linear and logistic) to allow for options in the evaluation stage to determine what is most accurate based on the data. As these are time series models, we will need to split the data from the previous step so that half is a training set and half a test set.\n\n<h4>Evaluation:</h4>\nHere determining what model is most accurate and if there are any additional features that could make it more accurate will be important.\n\n<h4>Deployment:</h4>\nThe Most accurate model from the evaluation step is deployed and the results are returned to the stakeholders.\n\n<h4>Feedback:</h4>\nAny feedback or modifications returns us to a previous step in the loop."
        },
        {
            "cell_type": "markdown",
            "metadata": {},
            "source": "Thanks for grading the assignment!"
        },
        {
            "cell_type": "code",
            "execution_count": null,
            "metadata": {},
            "outputs": [],
            "source": ""
        }
    ],
    "metadata": {
        "kernelspec": {
            "display_name": "Python 3.10",
            "language": "python",
            "name": "python3"
        },
        "language_info": {
            "codemirror_mode": {
                "name": "ipython",
                "version": 3
            },
            "file_extension": ".py",
            "mimetype": "text/x-python",
            "name": "python",
            "nbconvert_exporter": "python",
            "pygments_lexer": "ipython3",
            "version": "3.10.6"
        }
    },
    "nbformat": 4,
    "nbformat_minor": 1
}