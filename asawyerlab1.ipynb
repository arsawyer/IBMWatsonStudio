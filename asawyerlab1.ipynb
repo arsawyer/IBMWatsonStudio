{
 "cells": [
  {
   "cell_type": "markdown",
   "metadata": {},
   "source": [
    "<center>\n",
    "    <img src=\"https://cf-courses-data.s3.us.cloud-object-storage.appdomain.cloud/IBMDeveloperSkillsNetwork-DS0105EN-SkillsNetwork/labs/Module2/images/SN_web_lightmode.png\" width=\"300\" alt=\"cognitiveclass.ai logo\">\n",
    "</center>\n"
   ]
  },
  {
   "cell_type": "markdown",
   "metadata": {},
   "source": [
    "#### Add your code below following the instructions given in the course\n"
   ]
  },
  {
   "cell_type": "markdown",
   "metadata": {},
   "source": [
    "<h1>My Jupiter Notebook on IBM Watson Studio</h1>"
   ]
  },
  {
   "cell_type": "markdown",
   "metadata": {},
   "source": [
    "**Alex Sawyer**\n",
    "Data Scientist"
   ]
  },
  {
   "cell_type": "markdown",
   "metadata": {},
   "source": [
    "*My interest in data science comes from how interesting the stories that come out from an analysis are. Seeing new insights about a business or other question just from looking over the data in a different way is pretty exciting.*"
   ]
  },
  {
   "cell_type": "markdown",
   "metadata": {},
   "source": [
    "<h3>The following code is a simple addition problem that takes two inputs from the user and returns the sum.</h3>"
   ]
  },
  {
   "cell_type": "code",
   "execution_count": 29,
   "metadata": {},
   "outputs": [
    {
     "name": "stdin",
     "output_type": "stream",
     "text": [
      "please enter first value\n",
      " 2\n",
      "please enter second value\n",
      " -2\n"
     ]
    },
    {
     "name": "stdout",
     "output_type": "stream",
     "text": [
      "The sum of the values is 0\n"
     ]
    }
   ],
   "source": [
    "A= int(input('please enter first value\\n'))\n",
    "B = int(input('please enter second value\\n'))\n",
    "C = str(A+B)\n",
    "print(\"The sum of the values is\" , C)"
   ]
  },
  {
   "cell_type": "markdown",
   "metadata": {},
   "source": [
    "1. The start of a ordered list\n",
    "2. Something something\n",
    "3. The current end of the list\n",
    "\n",
    "Next is a nice picture \n",
    "---\n",
    "![alt text](data:image/jpeg;base64,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)\n",
    "\n",
    "---\n",
    "\n",
    "Finally the last is a nifty link to a list of [basic Markdown commands](https://www.markdownguide.org/cheat-sheet/)\n"
   ]
  },
  {
   "cell_type": "code",
   "execution_count": null,
   "metadata": {},
   "outputs": [],
   "source": []
  }
 ],
 "metadata": {
  "kernelspec": {
   "display_name": "Python",
   "language": "python",
   "name": "conda-env-python-py"
  },
  "language_info": {
   "codemirror_mode": {
    "name": "ipython",
    "version": 3
   },
   "file_extension": ".py",
   "mimetype": "text/x-python",
   "name": "python",
   "nbconvert_exporter": "python",
   "pygments_lexer": "ipython3",
   "version": "3.7.12"
  }
 },
 "nbformat": 4,
 "nbformat_minor": 4
}
